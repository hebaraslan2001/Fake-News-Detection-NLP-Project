{
  "cells": [
    {
      "cell_type": "code",
      "execution_count": 1,
      "metadata": {
        "colab": {
          "base_uri": "https://localhost:8080/"
        },
        "id": "p9gQauOUf0XV",
        "outputId": "8c1298fb-6d10-46d4-f775-2872781cd063"
      },
      "outputs": [
        {
          "name": "stderr",
          "output_type": "stream",
          "text": [
            "[nltk_data] Downloading package stopwords to\n",
            "[nltk_data]     C:\\Users\\LapTop\\AppData\\Roaming\\nltk_data...\n",
            "[nltk_data]   Package stopwords is already up-to-date!\n",
            "[nltk_data] Downloading package wordnet to\n",
            "[nltk_data]     C:\\Users\\LapTop\\AppData\\Roaming\\nltk_data...\n",
            "[nltk_data]   Package wordnet is already up-to-date!\n"
          ]
        },
        {
          "data": {
            "text/plain": [
              "True"
            ]
          },
          "execution_count": 1,
          "metadata": {},
          "output_type": "execute_result"
        }
      ],
      "source": [
        "import nltk\n",
        "nltk.download('stopwords')\n",
        "nltk.download('wordnet')"
      ]
    },
    {
      "cell_type": "code",
      "execution_count": 2,
      "metadata": {
        "colab": {
          "base_uri": "https://localhost:8080/",
          "height": 310
        },
        "id": "k-Ea7L_tf40w",
        "outputId": "4d1c6a62-9a16-471d-d0f3-b273a2ed0b30"
      },
      "outputs": [
        {
          "data": {
            "text/html": [
              "<div>\n",
              "<style scoped>\n",
              "    .dataframe tbody tr th:only-of-type {\n",
              "        vertical-align: middle;\n",
              "    }\n",
              "\n",
              "    .dataframe tbody tr th {\n",
              "        vertical-align: top;\n",
              "    }\n",
              "\n",
              "    .dataframe thead th {\n",
              "        text-align: right;\n",
              "    }\n",
              "</style>\n",
              "<table border=\"1\" class=\"dataframe\">\n",
              "  <thead>\n",
              "    <tr style=\"text-align: right;\">\n",
              "      <th></th>\n",
              "      <th>Unnamed: 0</th>\n",
              "      <th>title</th>\n",
              "      <th>text</th>\n",
              "      <th>label</th>\n",
              "    </tr>\n",
              "  </thead>\n",
              "  <tbody>\n",
              "    <tr>\n",
              "      <th>0</th>\n",
              "      <td>8476</td>\n",
              "      <td>You Can Smell Hillary’s Fear</td>\n",
              "      <td>Daniel Greenfield, a Shillman Journalism Fello...</td>\n",
              "      <td>FAKE</td>\n",
              "    </tr>\n",
              "    <tr>\n",
              "      <th>1</th>\n",
              "      <td>10294</td>\n",
              "      <td>Watch The Exact Moment Paul Ryan Committed Pol...</td>\n",
              "      <td>Google Pinterest Digg Linkedin Reddit Stumbleu...</td>\n",
              "      <td>FAKE</td>\n",
              "    </tr>\n",
              "    <tr>\n",
              "      <th>2</th>\n",
              "      <td>3608</td>\n",
              "      <td>Kerry to go to Paris in gesture of sympathy</td>\n",
              "      <td>U.S. Secretary of State John F. Kerry said Mon...</td>\n",
              "      <td>REAL</td>\n",
              "    </tr>\n",
              "    <tr>\n",
              "      <th>3</th>\n",
              "      <td>10142</td>\n",
              "      <td>Bernie supporters on Twitter erupt in anger ag...</td>\n",
              "      <td>— Kaydee King (@KaydeeKing) November 9, 2016 T...</td>\n",
              "      <td>FAKE</td>\n",
              "    </tr>\n",
              "    <tr>\n",
              "      <th>4</th>\n",
              "      <td>875</td>\n",
              "      <td>The Battle of New York: Why This Primary Matters</td>\n",
              "      <td>It's primary day in New York and front-runners...</td>\n",
              "      <td>REAL</td>\n",
              "    </tr>\n",
              "  </tbody>\n",
              "</table>\n",
              "</div>"
            ],
            "text/plain": [
              "   Unnamed: 0                                              title  \\\n",
              "0        8476                       You Can Smell Hillary’s Fear   \n",
              "1       10294  Watch The Exact Moment Paul Ryan Committed Pol...   \n",
              "2        3608        Kerry to go to Paris in gesture of sympathy   \n",
              "3       10142  Bernie supporters on Twitter erupt in anger ag...   \n",
              "4         875   The Battle of New York: Why This Primary Matters   \n",
              "\n",
              "                                                text label  \n",
              "0  Daniel Greenfield, a Shillman Journalism Fello...  FAKE  \n",
              "1  Google Pinterest Digg Linkedin Reddit Stumbleu...  FAKE  \n",
              "2  U.S. Secretary of State John F. Kerry said Mon...  REAL  \n",
              "3  — Kaydee King (@KaydeeKing) November 9, 2016 T...  FAKE  \n",
              "4  It's primary day in New York and front-runners...  REAL  "
            ]
          },
          "execution_count": 2,
          "metadata": {},
          "output_type": "execute_result"
        }
      ],
      "source": [
        "import pandas as pd\n",
        "#Read the data\n",
        "news = pd.read_csv(r\"E:/college/Year Four/Second Term/NLP/Project/news/news.csv\", sep=',', header=0)\n",
        "\n",
        "#Data undestanding\n",
        "news.head()"
      ]
    },
    {
      "cell_type": "code",
      "execution_count": 3,
      "metadata": {
        "colab": {
          "base_uri": "https://localhost:8080/"
        },
        "id": "TbWrvqBBf7nv",
        "outputId": "fc41b7f2-ab11-48b9-a9f2-4b2aebae2f2b"
      },
      "outputs": [
        {
          "name": "stdout",
          "output_type": "stream",
          "text": [
            "<class 'pandas.core.frame.DataFrame'>\n",
            "RangeIndex: 6335 entries, 0 to 6334\n",
            "Data columns (total 4 columns):\n",
            " #   Column      Non-Null Count  Dtype \n",
            "---  ------      --------------  ----- \n",
            " 0   Unnamed: 0  6335 non-null   int64 \n",
            " 1   title       6335 non-null   object\n",
            " 2   text        6335 non-null   object\n",
            " 3   label       6335 non-null   object\n",
            "dtypes: int64(1), object(3)\n",
            "memory usage: 198.1+ KB\n"
          ]
        }
      ],
      "source": [
        "news.isnull().sum()\n",
        "news.info()"
      ]
    },
    {
      "cell_type": "code",
      "execution_count": 13,
      "metadata": {
        "colab": {
          "base_uri": "https://localhost:8080/",
          "height": 542
        },
        "id": "eZdSwhlDf9RN",
        "outputId": "94ef24da-07b8-4dad-ebf7-f8c46ef64558"
      },
      "outputs": [
        {
          "ename": "ValueError",
          "evalue": "Mime type rendering requires nbformat>=4.2.0 but it is not installed",
          "output_type": "error",
          "traceback": [
            "\u001b[1;31m---------------------------------------------------------------------------\u001b[0m",
            "\u001b[1;31mValueError\u001b[0m                                Traceback (most recent call last)",
            "Cell \u001b[1;32mIn[13], line 17\u001b[0m\n\u001b[0;32m     14\u001b[0m fig \u001b[38;5;241m=\u001b[39m ex\u001b[38;5;241m.\u001b[39mpie(news, names\u001b[38;5;241m=\u001b[39m\u001b[38;5;124m'\u001b[39m\u001b[38;5;124mlabel\u001b[39m\u001b[38;5;124m'\u001b[39m, values\u001b[38;5;241m=\u001b[39m\u001b[38;5;124m'\u001b[39m\u001b[38;5;124mvalues\u001b[39m\u001b[38;5;124m'\u001b[39m, title\u001b[38;5;241m=\u001b[39m\u001b[38;5;124m\"\u001b[39m\u001b[38;5;124mNews Distribution\u001b[39m\u001b[38;5;124m\"\u001b[39m, hole\u001b[38;5;241m=\u001b[39m\u001b[38;5;241m0.20\u001b[39m)\n\u001b[0;32m     16\u001b[0m \u001b[38;5;66;03m# Show the pie chart\u001b[39;00m\n\u001b[1;32m---> 17\u001b[0m \u001b[43mfig\u001b[49m\u001b[38;5;241;43m.\u001b[39;49m\u001b[43mshow\u001b[49m\u001b[43m(\u001b[49m\u001b[43m)\u001b[49m\n",
            "File \u001b[1;32m~\\AppData\\Local\\Packages\\PythonSoftwareFoundation.Python.3.12_qbz5n2kfra8p0\\LocalCache\\local-packages\\Python312\\site-packages\\plotly\\basedatatypes.py:3410\u001b[0m, in \u001b[0;36mBaseFigure.show\u001b[1;34m(self, *args, **kwargs)\u001b[0m\n\u001b[0;32m   3377\u001b[0m \u001b[38;5;250m\u001b[39m\u001b[38;5;124;03m\"\"\"\u001b[39;00m\n\u001b[0;32m   3378\u001b[0m \u001b[38;5;124;03mShow a figure using either the default renderer(s) or the renderer(s)\u001b[39;00m\n\u001b[0;32m   3379\u001b[0m \u001b[38;5;124;03mspecified by the renderer argument\u001b[39;00m\n\u001b[1;32m   (...)\u001b[0m\n\u001b[0;32m   3406\u001b[0m \u001b[38;5;124;03mNone\u001b[39;00m\n\u001b[0;32m   3407\u001b[0m \u001b[38;5;124;03m\"\"\"\u001b[39;00m\n\u001b[0;32m   3408\u001b[0m \u001b[38;5;28;01mimport\u001b[39;00m \u001b[38;5;21;01mplotly\u001b[39;00m\u001b[38;5;21;01m.\u001b[39;00m\u001b[38;5;21;01mio\u001b[39;00m \u001b[38;5;28;01mas\u001b[39;00m \u001b[38;5;21;01mpio\u001b[39;00m\n\u001b[1;32m-> 3410\u001b[0m \u001b[38;5;28;01mreturn\u001b[39;00m \u001b[43mpio\u001b[49m\u001b[38;5;241;43m.\u001b[39;49m\u001b[43mshow\u001b[49m\u001b[43m(\u001b[49m\u001b[38;5;28;43mself\u001b[39;49m\u001b[43m,\u001b[49m\u001b[43m \u001b[49m\u001b[38;5;241;43m*\u001b[39;49m\u001b[43margs\u001b[49m\u001b[43m,\u001b[49m\u001b[43m \u001b[49m\u001b[38;5;241;43m*\u001b[39;49m\u001b[38;5;241;43m*\u001b[39;49m\u001b[43mkwargs\u001b[49m\u001b[43m)\u001b[49m\n",
            "File \u001b[1;32m~\\AppData\\Local\\Packages\\PythonSoftwareFoundation.Python.3.12_qbz5n2kfra8p0\\LocalCache\\local-packages\\Python312\\site-packages\\plotly\\io\\_renderers.py:394\u001b[0m, in \u001b[0;36mshow\u001b[1;34m(fig, renderer, validate, **kwargs)\u001b[0m\n\u001b[0;32m    389\u001b[0m         \u001b[38;5;28;01mraise\u001b[39;00m \u001b[38;5;167;01mValueError\u001b[39;00m(\n\u001b[0;32m    390\u001b[0m             \u001b[38;5;124m\"\u001b[39m\u001b[38;5;124mMime type rendering requires ipython but it is not installed\u001b[39m\u001b[38;5;124m\"\u001b[39m\n\u001b[0;32m    391\u001b[0m         )\n\u001b[0;32m    393\u001b[0m     \u001b[38;5;28;01mif\u001b[39;00m \u001b[38;5;129;01mnot\u001b[39;00m nbformat \u001b[38;5;129;01mor\u001b[39;00m Version(nbformat\u001b[38;5;241m.\u001b[39m__version__) \u001b[38;5;241m<\u001b[39m Version(\u001b[38;5;124m\"\u001b[39m\u001b[38;5;124m4.2.0\u001b[39m\u001b[38;5;124m\"\u001b[39m):\n\u001b[1;32m--> 394\u001b[0m         \u001b[38;5;28;01mraise\u001b[39;00m \u001b[38;5;167;01mValueError\u001b[39;00m(\n\u001b[0;32m    395\u001b[0m             \u001b[38;5;124m\"\u001b[39m\u001b[38;5;124mMime type rendering requires nbformat>=4.2.0 but it is not installed\u001b[39m\u001b[38;5;124m\"\u001b[39m\n\u001b[0;32m    396\u001b[0m         )\n\u001b[0;32m    398\u001b[0m     ipython_display\u001b[38;5;241m.\u001b[39mdisplay(bundle, raw\u001b[38;5;241m=\u001b[39m\u001b[38;5;28;01mTrue\u001b[39;00m)\n\u001b[0;32m    400\u001b[0m \u001b[38;5;66;03m# external renderers\u001b[39;00m\n",
            "\u001b[1;31mValueError\u001b[0m: Mime type rendering requires nbformat>=4.2.0 but it is not installed"
          ]
        }
      ],
      "source": [
        "# visualization\n",
        "import plotly.express as ex\n",
        "\n",
        "ex.pie(news, names='label', title=\"label\", hole=0.20).show()"
      ]
    },
    {
      "cell_type": "code",
      "execution_count": null,
      "metadata": {
        "colab": {
          "base_uri": "https://localhost:8080/",
          "height": 310
        },
        "id": "nhnk4uNvgAUe",
        "outputId": "05c9ebd4-1df9-43b5-c135-2fe68e5f35ca"
      },
      "outputs": [
        {
          "data": {
            "application/vnd.google.colaboratory.intrinsic+json": {
              "summary": "{\n  \"name\": \"news\",\n  \"rows\": 6335,\n  \"fields\": [\n    {\n      \"column\": \"Unnamed: 0\",\n      \"properties\": {\n        \"dtype\": \"number\",\n        \"std\": 3038,\n        \"min\": 2,\n        \"max\": 10557,\n        \"num_unique_values\": 6335,\n        \"samples\": [\n          9957,\n          7596,\n          8905\n        ],\n        \"semantic_type\": \"\",\n        \"description\": \"\"\n      }\n    },\n    {\n      \"column\": \"title\",\n      \"properties\": {\n        \"dtype\": \"string\",\n        \"num_unique_values\": 6256,\n        \"samples\": [\n          \"Elizabeth Warren's speech attacking Donald Trump made a bigger argument about Republicans\",\n          \"Assange: Clinton And ISIS Are Funded By Same People, \\u201cTrump Not Permitted To Win\\u201d\",\n          \"Reporters Stunned to Learn Trump Fans Lining Up 12 Hours Before Rally Starts\"\n        ],\n        \"semantic_type\": \"\",\n        \"description\": \"\"\n      }\n    },\n    {\n      \"column\": \"text\",\n      \"properties\": {\n        \"dtype\": \"string\",\n        \"num_unique_values\": 6059,\n        \"samples\": [\n          \"donald trump way ahead poll republican nomination. bernie sander win new hampshire primary tuesday, he\\u2019s close hillary clinton national polls. neither trump sander likely win! new fox news tv special, \\u201ctech revolution\\u201d 8 11 pm et sunday night, we\\u2019ll explain better way predict winner look betting odds. give marco rubio 50 percent chance winning nomination, hillary clinton 80 percent chance. betting odds better track record poll pundits. come people put money line, rather people mouth off. george mason university economist robin hanson put way: imagine you\\u2019re bar\\u2026 \\u201cyou're pontificating -- somebody challenge says, \\u2018want bet?\\u2019 us, soon somebody say \\u2018want bet?\\u2019 -- pause. go, \\u2018do really believe that?\\u2019\\u201d careful bet. aren\\u2019t, lose money. think odds wrong? put money mouth is. american politician banned political prediction markets, they\\u2019ve allowed few, like predictit.org. preditctit\\u2019s odds little bettor may trade $850 per candidate. odds bigger unrestricted markets, like england\\u2019s betfair.com, informative. betfair post odds confusing gambling formulas, two u simplify american here: electionbettingodds.com. odds update every five minutes. prediction market like betfair run sketchy bookies. business operate way stock market \\u2013 people buy sell \\u201cshares\\u201d pay based whether candidate successful. today, 10 cents, buy share trump. becomes president, win dollar. odds good track record. november, ben carson surged first place polls, bettor knew would fade--betfair 9 percent. odds 1 percent. betting odds sometimes fail: evening iowa caucus, bettor thought donald trump would win. still beat poll pundits. part reason they\\u2019re good \\u201cwisdom crowds.\\u201d people betting may fool making bad bet -- enough good information whole group bet likely accurate. see tv show \\u201cwho want millionaire.\\u201d contestant ask audience, expert. expert pretty well. get answer right 65 percent time, audience get right 91 percent time. bet prediction market called intrade accurately predicted \\u201camerican idol\\u201d winners, oscar winners, election result almost every u.s. state. even predicted saddam hussein would captured. sadly, government said betting \\u201ccontrary public interest.\\u201d sued intrade put business. longer access intrade\\u2019s interesting useful predictions. fortunately, site still allow political betting, best odds easily readable electionbettingodds.com. we\\u2019ll explain better tv sunday night! john stossel\\u2019s special \\u201ctech revolution\\u201d air sunday night fox news channel 8 pm et. maxim lott fox news supervising producer twitter @maximlott. john stossel author \\\"no can't! government fails -- individual succeed\\\" host \\\"stossel\\\" (fridays 9 pm/et), weekly program highlighting current consumer issue libertarian viewpoint. stossel also appears regularly fox news channel (fnc) providing signature analysis. click information john stossel.\",\n          \"scientist pour $100 million looking alien around weird star 10/26/2016 daily caller astronomer pour $100 million investigating star may surrounded large structure built alien civilization. researcher university california, berkeley\\u2019s breakthrough listen project search extraterrestrial intelligence (seti) turning program\\u2019s $100 million budget investigating star\\u2019s unique behavior. \\u201ceveryone, every seti program telescope, mean every astronomer kind telescope wavelength see tabby\\u2019s star looked it,\\u201d dr. andrew siemion, director berkeley seti research center, said press statement . \\u201cit\\u2019s looked hubble, it\\u2019s looked keck, it\\u2019s looked infrared radio high energy, every possible thing imagine, including whole range seti experiments. nothing found.\\u201d researcher repeatedly scan star eight hour per night next two month examine extremely unusually dimming behavior. star randomly dims much 22 percent output extremely irregular intervals. consistent large orbiting masses, much larger planets, blocking star\\u2019s light pas front it. natural form large mass could cause kic 8462852\\u2019s dimming aren\\u2019t consistent star\\u2019s age . scientist found first possible evidence extraterrestrial civilization around kic 8462852 last october , astronomer yale university top school published study used nasa\\u2019s kepler space telescope. far, astronomer haven\\u2019t found single naturalistic explanation star\\u2019s exceedingly unusual dimming, explains extremely unusual behavior star. astronomer examined 500 star vicinity kic 8462852, seen nothing else like it. dense formation near kic 8462852 similar \\u201cdyson spheres,\\u201d hypothetical, energy-harvesting \\u201cmegastuctures\\u201d theoretical alien could hypothetically build rearranging solar system. scientist pondered existence dyson sphere since 1960s, thinking could potential solution energy problem faced extremely old civilization. seti scientist long argued human could detect distant alien civilization looking technological artifact like dyson sphere orbiting stars. \\u201cwe spent long time trying convince wasn\\u2019t real. weren\\u2019t able to,\\u201d ben montet, caltech astronomer co-authored research star, told gizmodo . \\u201cnone considered phenomenon alone explain observations.\\u201d best naturalistic explanation favored astronomers, involves huge mass comet erratically orbiting star creating enough dust dim light, january analysis star\\u2019s history render hypothesis implausible, since unprecedented dimming continued century. order dim long time period, star would need million time dust comet orbiting case. astronomer estimate dimming would require roughly 648,000 giant comet 200 kilometer diameter, aligned pas front star. chance formation render essentially impossible, currently remotely plausible scientific explanation going kic 8462852. astronomer previously frequently misjudge abnormal stellar occurrence and, usually, abnormality simply new phenomenon. graduate student astronomy, found usual pulsing radio signal predictable seemed sign intelligent life 1967. astronomer even nicknamed signal lgm-1, \\u201clittle green men,\\u201d believed detected signal extraterrestrial civilization , turned first pulsar.\",\n          \"tuesday, 33 u senator elected november sworn vice president joe biden \\u2014 including 12 new chamber. class includes 22 republican 11 democrats, big reason gop 54-46 majority senate overall. here's crazy fact: 46 democrat got vote 54 republican across 2010, 2012, 2014 elections. according nathan nicholson, researcher voting reform advocacy group fairvote, \\\"the 46 democratic caucus member 114th congress received total 67.8 million vote winning seats, 54 republican caucus member received 47.1 million votes.\\\" here's look like chart form: mean republican majority illegitimate anything like that. indeed, 2008 2012, table turned: democrat got senate seat vote share suggested should. problem deck stacked favor republicans. problem deck stacked favor small states, receive equal representation senate despite dramatic variance population. senate profoundly anti-democratic body abolished.\"\n        ],\n        \"semantic_type\": \"\",\n        \"description\": \"\"\n      }\n    },\n    {\n      \"column\": \"label\",\n      \"properties\": {\n        \"dtype\": \"category\",\n        \"num_unique_values\": 2,\n        \"samples\": [\n          \"REAL\",\n          \"FAKE\"\n        ],\n        \"semantic_type\": \"\",\n        \"description\": \"\"\n      }\n    }\n  ]\n}",
              "type": "dataframe",
              "variable_name": "news"
            },
            "text/html": [
              "\n",
              "  <div id=\"df-c3b7c9b8-8c9c-4dcd-87ff-7079835c3ae8\" class=\"colab-df-container\">\n",
              "    <div>\n",
              "<style scoped>\n",
              "    .dataframe tbody tr th:only-of-type {\n",
              "        vertical-align: middle;\n",
              "    }\n",
              "\n",
              "    .dataframe tbody tr th {\n",
              "        vertical-align: top;\n",
              "    }\n",
              "\n",
              "    .dataframe thead th {\n",
              "        text-align: right;\n",
              "    }\n",
              "</style>\n",
              "<table border=\"1\" class=\"dataframe\">\n",
              "  <thead>\n",
              "    <tr style=\"text-align: right;\">\n",
              "      <th></th>\n",
              "      <th>Unnamed: 0</th>\n",
              "      <th>title</th>\n",
              "      <th>text</th>\n",
              "      <th>label</th>\n",
              "    </tr>\n",
              "  </thead>\n",
              "  <tbody>\n",
              "    <tr>\n",
              "      <th>0</th>\n",
              "      <td>8476</td>\n",
              "      <td>You Can Smell Hillary’s Fear</td>\n",
              "      <td>daniel greenfield, shillman journalism fellow ...</td>\n",
              "      <td>FAKE</td>\n",
              "    </tr>\n",
              "    <tr>\n",
              "      <th>1</th>\n",
              "      <td>10294</td>\n",
              "      <td>Watch The Exact Moment Paul Ryan Committed Pol...</td>\n",
              "      <td>google pinterest digg linkedin reddit stumbleu...</td>\n",
              "      <td>FAKE</td>\n",
              "    </tr>\n",
              "    <tr>\n",
              "      <th>2</th>\n",
              "      <td>3608</td>\n",
              "      <td>Kerry to go to Paris in gesture of sympathy</td>\n",
              "      <td>u.s. secretary state john f. kerry said monday...</td>\n",
              "      <td>REAL</td>\n",
              "    </tr>\n",
              "    <tr>\n",
              "      <th>3</th>\n",
              "      <td>10142</td>\n",
              "      <td>Bernie supporters on Twitter erupt in anger ag...</td>\n",
              "      <td>— kaydee king (@kaydeeking) november 9, 2016 l...</td>\n",
              "      <td>FAKE</td>\n",
              "    </tr>\n",
              "    <tr>\n",
              "      <th>4</th>\n",
              "      <td>875</td>\n",
              "      <td>The Battle of New York: Why This Primary Matters</td>\n",
              "      <td>primary day new york front-runner hillary clin...</td>\n",
              "      <td>REAL</td>\n",
              "    </tr>\n",
              "  </tbody>\n",
              "</table>\n",
              "</div>\n",
              "    <div class=\"colab-df-buttons\">\n",
              "\n",
              "  <div class=\"colab-df-container\">\n",
              "    <button class=\"colab-df-convert\" onclick=\"convertToInteractive('df-c3b7c9b8-8c9c-4dcd-87ff-7079835c3ae8')\"\n",
              "            title=\"Convert this dataframe to an interactive table.\"\n",
              "            style=\"display:none;\">\n",
              "\n",
              "  <svg xmlns=\"http://www.w3.org/2000/svg\" height=\"24px\" viewBox=\"0 -960 960 960\">\n",
              "    <path d=\"M120-120v-720h720v720H120Zm60-500h600v-160H180v160Zm220 220h160v-160H400v160Zm0 220h160v-160H400v160ZM180-400h160v-160H180v160Zm440 0h160v-160H620v160ZM180-180h160v-160H180v160Zm440 0h160v-160H620v160Z\"/>\n",
              "  </svg>\n",
              "    </button>\n",
              "\n",
              "  <style>\n",
              "    .colab-df-container {\n",
              "      display:flex;\n",
              "      gap: 12px;\n",
              "    }\n",
              "\n",
              "    .colab-df-convert {\n",
              "      background-color: #E8F0FE;\n",
              "      border: none;\n",
              "      border-radius: 50%;\n",
              "      cursor: pointer;\n",
              "      display: none;\n",
              "      fill: #1967D2;\n",
              "      height: 32px;\n",
              "      padding: 0 0 0 0;\n",
              "      width: 32px;\n",
              "    }\n",
              "\n",
              "    .colab-df-convert:hover {\n",
              "      background-color: #E2EBFA;\n",
              "      box-shadow: 0px 1px 2px rgba(60, 64, 67, 0.3), 0px 1px 3px 1px rgba(60, 64, 67, 0.15);\n",
              "      fill: #174EA6;\n",
              "    }\n",
              "\n",
              "    .colab-df-buttons div {\n",
              "      margin-bottom: 4px;\n",
              "    }\n",
              "\n",
              "    [theme=dark] .colab-df-convert {\n",
              "      background-color: #3B4455;\n",
              "      fill: #D2E3FC;\n",
              "    }\n",
              "\n",
              "    [theme=dark] .colab-df-convert:hover {\n",
              "      background-color: #434B5C;\n",
              "      box-shadow: 0px 1px 3px 1px rgba(0, 0, 0, 0.15);\n",
              "      filter: drop-shadow(0px 1px 2px rgba(0, 0, 0, 0.3));\n",
              "      fill: #FFFFFF;\n",
              "    }\n",
              "  </style>\n",
              "\n",
              "    <script>\n",
              "      const buttonEl =\n",
              "        document.querySelector('#df-c3b7c9b8-8c9c-4dcd-87ff-7079835c3ae8 button.colab-df-convert');\n",
              "      buttonEl.style.display =\n",
              "        google.colab.kernel.accessAllowed ? 'block' : 'none';\n",
              "\n",
              "      async function convertToInteractive(key) {\n",
              "        const element = document.querySelector('#df-c3b7c9b8-8c9c-4dcd-87ff-7079835c3ae8');\n",
              "        const dataTable =\n",
              "          await google.colab.kernel.invokeFunction('convertToInteractive',\n",
              "                                                    [key], {});\n",
              "        if (!dataTable) return;\n",
              "\n",
              "        const docLinkHtml = 'Like what you see? Visit the ' +\n",
              "          '<a target=\"_blank\" href=https://colab.research.google.com/notebooks/data_table.ipynb>data table notebook</a>'\n",
              "          + ' to learn more about interactive tables.';\n",
              "        element.innerHTML = '';\n",
              "        dataTable['output_type'] = 'display_data';\n",
              "        await google.colab.output.renderOutput(dataTable, element);\n",
              "        const docLink = document.createElement('div');\n",
              "        docLink.innerHTML = docLinkHtml;\n",
              "        element.appendChild(docLink);\n",
              "      }\n",
              "    </script>\n",
              "  </div>\n",
              "\n",
              "\n",
              "<div id=\"df-10bca403-349b-4fb8-851f-4233c5dbfd1c\">\n",
              "  <button class=\"colab-df-quickchart\" onclick=\"quickchart('df-10bca403-349b-4fb8-851f-4233c5dbfd1c')\"\n",
              "            title=\"Suggest charts\"\n",
              "            style=\"display:none;\">\n",
              "\n",
              "<svg xmlns=\"http://www.w3.org/2000/svg\" height=\"24px\"viewBox=\"0 0 24 24\"\n",
              "     width=\"24px\">\n",
              "    <g>\n",
              "        <path d=\"M19 3H5c-1.1 0-2 .9-2 2v14c0 1.1.9 2 2 2h14c1.1 0 2-.9 2-2V5c0-1.1-.9-2-2-2zM9 17H7v-7h2v7zm4 0h-2V7h2v10zm4 0h-2v-4h2v4z\"/>\n",
              "    </g>\n",
              "</svg>\n",
              "  </button>\n",
              "\n",
              "<style>\n",
              "  .colab-df-quickchart {\n",
              "      --bg-color: #E8F0FE;\n",
              "      --fill-color: #1967D2;\n",
              "      --hover-bg-color: #E2EBFA;\n",
              "      --hover-fill-color: #174EA6;\n",
              "      --disabled-fill-color: #AAA;\n",
              "      --disabled-bg-color: #DDD;\n",
              "  }\n",
              "\n",
              "  [theme=dark] .colab-df-quickchart {\n",
              "      --bg-color: #3B4455;\n",
              "      --fill-color: #D2E3FC;\n",
              "      --hover-bg-color: #434B5C;\n",
              "      --hover-fill-color: #FFFFFF;\n",
              "      --disabled-bg-color: #3B4455;\n",
              "      --disabled-fill-color: #666;\n",
              "  }\n",
              "\n",
              "  .colab-df-quickchart {\n",
              "    background-color: var(--bg-color);\n",
              "    border: none;\n",
              "    border-radius: 50%;\n",
              "    cursor: pointer;\n",
              "    display: none;\n",
              "    fill: var(--fill-color);\n",
              "    height: 32px;\n",
              "    padding: 0;\n",
              "    width: 32px;\n",
              "  }\n",
              "\n",
              "  .colab-df-quickchart:hover {\n",
              "    background-color: var(--hover-bg-color);\n",
              "    box-shadow: 0 1px 2px rgba(60, 64, 67, 0.3), 0 1px 3px 1px rgba(60, 64, 67, 0.15);\n",
              "    fill: var(--button-hover-fill-color);\n",
              "  }\n",
              "\n",
              "  .colab-df-quickchart-complete:disabled,\n",
              "  .colab-df-quickchart-complete:disabled:hover {\n",
              "    background-color: var(--disabled-bg-color);\n",
              "    fill: var(--disabled-fill-color);\n",
              "    box-shadow: none;\n",
              "  }\n",
              "\n",
              "  .colab-df-spinner {\n",
              "    border: 2px solid var(--fill-color);\n",
              "    border-color: transparent;\n",
              "    border-bottom-color: var(--fill-color);\n",
              "    animation:\n",
              "      spin 1s steps(1) infinite;\n",
              "  }\n",
              "\n",
              "  @keyframes spin {\n",
              "    0% {\n",
              "      border-color: transparent;\n",
              "      border-bottom-color: var(--fill-color);\n",
              "      border-left-color: var(--fill-color);\n",
              "    }\n",
              "    20% {\n",
              "      border-color: transparent;\n",
              "      border-left-color: var(--fill-color);\n",
              "      border-top-color: var(--fill-color);\n",
              "    }\n",
              "    30% {\n",
              "      border-color: transparent;\n",
              "      border-left-color: var(--fill-color);\n",
              "      border-top-color: var(--fill-color);\n",
              "      border-right-color: var(--fill-color);\n",
              "    }\n",
              "    40% {\n",
              "      border-color: transparent;\n",
              "      border-right-color: var(--fill-color);\n",
              "      border-top-color: var(--fill-color);\n",
              "    }\n",
              "    60% {\n",
              "      border-color: transparent;\n",
              "      border-right-color: var(--fill-color);\n",
              "    }\n",
              "    80% {\n",
              "      border-color: transparent;\n",
              "      border-right-color: var(--fill-color);\n",
              "      border-bottom-color: var(--fill-color);\n",
              "    }\n",
              "    90% {\n",
              "      border-color: transparent;\n",
              "      border-bottom-color: var(--fill-color);\n",
              "    }\n",
              "  }\n",
              "</style>\n",
              "\n",
              "  <script>\n",
              "    async function quickchart(key) {\n",
              "      const quickchartButtonEl =\n",
              "        document.querySelector('#' + key + ' button');\n",
              "      quickchartButtonEl.disabled = true;  // To prevent multiple clicks.\n",
              "      quickchartButtonEl.classList.add('colab-df-spinner');\n",
              "      try {\n",
              "        const charts = await google.colab.kernel.invokeFunction(\n",
              "            'suggestCharts', [key], {});\n",
              "      } catch (error) {\n",
              "        console.error('Error during call to suggestCharts:', error);\n",
              "      }\n",
              "      quickchartButtonEl.classList.remove('colab-df-spinner');\n",
              "      quickchartButtonEl.classList.add('colab-df-quickchart-complete');\n",
              "    }\n",
              "    (() => {\n",
              "      let quickchartButtonEl =\n",
              "        document.querySelector('#df-10bca403-349b-4fb8-851f-4233c5dbfd1c button');\n",
              "      quickchartButtonEl.style.display =\n",
              "        google.colab.kernel.accessAllowed ? 'block' : 'none';\n",
              "    })();\n",
              "  </script>\n",
              "</div>\n",
              "\n",
              "    </div>\n",
              "  </div>\n"
            ],
            "text/plain": [
              "   Unnamed: 0                                              title  \\\n",
              "0        8476                       You Can Smell Hillary’s Fear   \n",
              "1       10294  Watch The Exact Moment Paul Ryan Committed Pol...   \n",
              "2        3608        Kerry to go to Paris in gesture of sympathy   \n",
              "3       10142  Bernie supporters on Twitter erupt in anger ag...   \n",
              "4         875   The Battle of New York: Why This Primary Matters   \n",
              "\n",
              "                                                text label  \n",
              "0  daniel greenfield, shillman journalism fellow ...  FAKE  \n",
              "1  google pinterest digg linkedin reddit stumbleu...  FAKE  \n",
              "2  u.s. secretary state john f. kerry said monday...  REAL  \n",
              "3  — kaydee king (@kaydeeking) november 9, 2016 l...  FAKE  \n",
              "4  primary day new york front-runner hillary clin...  REAL  "
            ]
          },
          "execution_count": 7,
          "metadata": {},
          "output_type": "execute_result"
        }
      ],
      "source": [
        "#import\n",
        "import numpy as np\n",
        "import pandas as pd\n",
        "import matplotlib.pyplot as plt\n",
        "import string\n",
        "from nltk.stem import SnowballStemmer\n",
        "from nltk.corpus import stopwords\n",
        "from sklearn.feature_extraction.text import TfidfVectorizer\n",
        "from sklearn.model_selection import train_test_split\n",
        "import os\n",
        "from textblob import TextBlob\n",
        "from nltk.stem import PorterStemmer\n",
        "from textblob import Word\n",
        "from sklearn.feature_extraction.text import CountVectorizer,TfidfVectorizer\n",
        "import sklearn.feature_extraction.text as text\n",
        "from sklearn import model_selection, preprocessing, linear_model, naive_bayes, metrics, svm\n",
        "\n",
        "#pre processing steps like lower case, stemming and lemmatization\n",
        "\n",
        "news['text'] = news['text'].apply(lambda x: \" \".join(x.lower() for x in x.split()))\n",
        "stop = stopwords.words('english')\n",
        "news['text'] = news['text'].apply(lambda x: \" \".join(x for x in x.split() if x not in stop))\n",
        "#st = PorterStemmer()\n",
        "#news['text'] = news['text'].apply(lambda x: \" \".join([st.stem(word) for word in x.split()]))\n",
        "news['text'] =news['text'].apply(lambda x: \" \".join([Word(word).lemmatize() for word in x.split()]))\n",
        "\n",
        "news.head()\n"
      ]
    },
    {
      "cell_type": "code",
      "execution_count": null,
      "metadata": {
        "colab": {
          "base_uri": "https://localhost:8080/"
        },
        "id": "XEq-6orQgCyb",
        "outputId": "da447f11-417c-45bb-958e-177d77714080"
      },
      "outputs": [
        {
          "data": {
            "text/plain": [
              "array([0.02360706, 0.01848622, 0.03343499, ..., 0.0566598 , 0.02224422,\n",
              "       0.02275503])"
            ]
          },
          "execution_count": 8,
          "metadata": {},
          "output_type": "execute_result"
        }
      ],
      "source": [
        "#Splitting data into train and validation\n",
        "train_x, valid_x, train_y, valid_y = model_selection.train_test_split(news['text'], news['label'],test_size=0.20, random_state=0)\n",
        "\n",
        "\n",
        "\n",
        "encoder = preprocessing.LabelEncoder()\n",
        "train_y = encoder.fit_transform(train_y)\n",
        "valid_y = encoder.fit_transform(valid_y)\n",
        "# TFIDF\n",
        "tfidf_vect = TfidfVectorizer()\n",
        "tfidf_vect.fit(news['text'])\n",
        "xtrain_tfidf =  tfidf_vect.transform(train_x)\n",
        "xvalid_tfidf =  tfidf_vect.transform(valid_x)\n",
        "\n",
        "xtrain_tfidf.data\n"
      ]
    },
    {
      "cell_type": "code",
      "execution_count": null,
      "metadata": {
        "id": "08szF10_gEmx"
      },
      "outputs": [],
      "source": [
        "import matplotlib.pyplot as plt\n",
        "import seaborn as sns\n",
        "from sklearn.metrics import accuracy_score, mean_squared_error, confusion_matrix\n",
        "\n",
        "def train_model(classifier, feature_vector_train, label, feature_vector_valid, is_neural_net=False):\n",
        "    # fit the training dataset on the classifier\n",
        "    classifier.fit(feature_vector_train, label)\n",
        "    # predict the labels on validation dataset\n",
        "    predictions = classifier.predict(feature_vector_valid)\n",
        "\n",
        "    # calculate accuracy\n",
        "    accuracy = accuracy_score(predictions, valid_y)\n",
        "\n",
        "    # calculate mean squared error\n",
        "    mse = mean_squared_error(valid_y, predictions)\n",
        "\n",
        "    # calculate confusion matrix\n",
        "    cm = confusion_matrix(valid_y, predictions)\n",
        "\n",
        "    # visualize confusion matrix using seaborn and matplotlib\n",
        "    plt.figure(figsize=(8, 6))\n",
        "    sns.heatmap(cm, annot=True, fmt=\"d\", cmap=\"Blues\")\n",
        "    plt.title(\"Confusion Matrix\")\n",
        "    plt.xlabel(\"Predicted Labels\")\n",
        "    plt.ylabel(\"True Labels\")\n",
        "    plt.show()\n",
        "\n",
        "    return accuracy, mse, cm\n"
      ]
    },
    {
      "cell_type": "code",
      "execution_count": null,
      "metadata": {
        "colab": {
          "base_uri": "https://localhost:8080/",
          "height": 634
        },
        "id": "H-wCnuS_gG9a",
        "outputId": "ba224f11-5b74-496f-81fb-4b7db82d2702"
      },
      "outputs": [
        {
          "data": {
            "image/png": "[encoded data removed]",
            "text/plain": [
              "<Figure size 800x600 with 2 Axes>"
            ]
          },
          "metadata": {},
          "output_type": "display_data"
        },
        {
          "name": "stdout",
          "output_type": "stream",
          "text": [
            "Naive Bayes - Accuracy:  0.8784530386740331\n",
            "Naive Bayes - Mean Squared Error:  0.12154696132596685\n",
            "Naive Bayes - Confusion Matrix:\n",
            " [[495 120]\n",
            " [ 34 618]]\n"
          ]
        }
      ],
      "source": [
        "# Naive Bayes training\n",
        "accuracy_nb, mse_nb, cm_nb = train_model(naive_bayes.MultinomialNB(alpha=0.2), xtrain_tfidf, train_y, xvalid_tfidf)\n",
        "print(\"Naive Bayes - Accuracy: \", accuracy_nb)\n",
        "print(\"Naive Bayes - Mean Squared Error: \", mse_nb)\n",
        "print(\"Naive Bayes - Confusion Matrix:\\n\", cm_nb)"
      ]
    },
    {
      "cell_type": "code",
      "execution_count": null,
      "metadata": {
        "colab": {
          "base_uri": "https://localhost:8080/",
          "height": 634
        },
        "id": "8NZagFhYgKWk",
        "outputId": "05944882-7a5a-4008-de51-cd6b0aa68c6b"
      },
      "outputs": [
        {
          "data": {
            "image/png": "[encoded data removed]",
            "text/plain": [
              "<Figure size 800x600 with 2 Axes>"
            ]
          },
          "metadata": {},
          "output_type": "display_data"
        },
        {
          "name": "stdout",
          "output_type": "stream",
          "text": [
            "Logistic Regression - Accuracy:  0.9163378058405682\n",
            "Logistic Regression - Mean Squared Error:  0.08366219415943173\n",
            "Logistic Regression - Confusion Matrix:\n",
            " [[574  41]\n",
            " [ 65 587]]\n"
          ]
        }
      ],
      "source": [
        "# Linear Classifier on Word Level TF IDF Vectors\n",
        "accuracy_lr, mse_lr, cm_lr = train_model(linear_model.LogisticRegression(), xtrain_tfidf, train_y, xvalid_tfidf)\n",
        "print(\"Logistic Regression - Accuracy: \", accuracy_lr)\n",
        "print(\"Logistic Regression - Mean Squared Error: \", mse_lr)\n",
        "print(\"Logistic Regression - Confusion Matrix:\\n\", cm_lr)"
      ]
    },
    {
      "cell_type": "code",
      "execution_count": null,
      "metadata": {
        "id": "pHfs2TtFgM_3"
      },
      "outputs": [],
      "source": [
        "# Importing\n",
        "from sklearn.svm import SVC\n",
        "from sklearn.ensemble import RandomForestClassifier\n",
        "from sklearn.tree import DecisionTreeClassifier\n",
        "from sklearn.ensemble import GradientBoostingClassifier\n",
        "from sklearn.neighbors import KNeighborsClassifier"
      ]
    },
    {
      "cell_type": "code",
      "execution_count": null,
      "metadata": {
        "colab": {
          "base_uri": "https://localhost:8080/",
          "height": 634
        },
        "id": "mm3I4wKjgN8E",
        "outputId": "b0136216-65ee-48fe-f10f-bccf08ff8f99"
      },
      "outputs": [
        {
          "data": {
            "image/png": "[encoded data removed]",
            "text/plain": [
              "<Figure size 800x600 with 2 Axes>"
            ]
          },
          "metadata": {},
          "output_type": "display_data"
        },
        {
          "name": "stdout",
          "output_type": "stream",
          "text": [
            "SVM - Accuracy:  0.9337016574585635\n",
            "SVM - Mean Squared Error:  0.06629834254143646\n",
            "SVM - Confusion Matrix:\n",
            " [[572  43]\n",
            " [ 41 611]]\n"
          ]
        }
      ],
      "source": [
        "# Support Vector Machine (SVM) training (take time)\n",
        "accuracy_svm, mse_svm, cm_svm = train_model(SVC(kernel='linear'), xtrain_tfidf, train_y, xvalid_tfidf)\n",
        "print(\"SVM - Accuracy: \", accuracy_svm)\n",
        "print(\"SVM - Mean Squared Error: \", mse_svm)\n",
        "print(\"SVM - Confusion Matrix:\\n\", cm_svm)"
      ]
    },
    {
      "cell_type": "code",
      "execution_count": null,
      "metadata": {
        "colab": {
          "base_uri": "https://localhost:8080/",
          "height": 634
        },
        "id": "RBEUoh-FgQg5",
        "outputId": "392e02bc-8864-4c4e-c9d4-7e0398656d61"
      },
      "outputs": [
        {
          "data": {
            "image/png": "[encoded data removed]",
            "text/plain": [
              "<Figure size 800x600 with 2 Axes>"
            ]
          },
          "metadata": {},
          "output_type": "display_data"
        },
        {
          "name": "stdout",
          "output_type": "stream",
          "text": [
            "Random Forest - Accuracy:  0.89344909234412\n",
            "Random Forest - Mean Squared Error:  0.10655090765588003\n",
            "Random Forest - Confusion Matrix:\n",
            " [[552  63]\n",
            " [ 72 580]]\n"
          ]
        }
      ],
      "source": [
        "# Random Forest Classifier training\n",
        "accuracy_rf, mse_rf, cm_rf = train_model(RandomForestClassifier(n_estimators=100), xtrain_tfidf, train_y, xvalid_tfidf)\n",
        "print(\"Random Forest - Accuracy: \", accuracy_rf)\n",
        "print(\"Random Forest - Mean Squared Error: \", mse_rf)\n",
        "print(\"Random Forest - Confusion Matrix:\\n\", cm_rf)"
      ]
    },
    {
      "cell_type": "code",
      "execution_count": null,
      "metadata": {
        "colab": {
          "base_uri": "https://localhost:8080/",
          "height": 634
        },
        "id": "W3wfUn5ogRI-",
        "outputId": "3e35e451-1b7b-4e48-9fda-46d8c16c5737"
      },
      "outputs": [
        {
          "data": {
            "image/png": "[encoded data removed]",
            "text/plain": [
              "<Figure size 800x600 with 2 Axes>"
            ]
          },
          "metadata": {},
          "output_type": "display_data"
        },
        {
          "name": "stdout",
          "output_type": "stream",
          "text": [
            "Decision Tree - Accuracy:  0.8208366219415943\n",
            "Decision Tree - Mean Squared Error:  0.17916337805840568\n",
            "Decision Tree - Confusion Matrix:\n",
            " [[494 121]\n",
            " [106 546]]\n"
          ]
        }
      ],
      "source": [
        "# Decision Tree Classifier training\n",
        "accuracy_dt, mse_dt, cm_dt = train_model(DecisionTreeClassifier(), xtrain_tfidf, train_y, xvalid_tfidf)\n",
        "print(\"Decision Tree - Accuracy: \", accuracy_dt)\n",
        "print(\"Decision Tree - Mean Squared Error: \", mse_dt)\n",
        "print(\"Decision Tree - Confusion Matrix:\\n\", cm_dt)"
      ]
    },
    {
      "cell_type": "code",
      "execution_count": null,
      "metadata": {
        "colab": {
          "base_uri": "https://localhost:8080/",
          "height": 634
        },
        "id": "yBHYqXpvgS81",
        "outputId": "11f34842-c711-4f80-c638-73f685ca7fc3"
      },
      "outputs": [
        {
          "data": {
            "image/png": "[encoded data removed]",
            "text/plain": [
              "<Figure size 800x600 with 2 Axes>"
            ]
          },
          "metadata": {},
          "output_type": "display_data"
        },
        {
          "name": "stdout",
          "output_type": "stream",
          "text": [
            "Gradient Boosting - Accuracy:  0.9021310181531176\n",
            "Gradient Boosting - Mean Squared Error:  0.0978689818468824\n",
            "Gradient Boosting - Confusion Matrix:\n",
            " [[561  54]\n",
            " [ 70 582]]\n"
          ]
        }
      ],
      "source": [
        "# Gradient Boosting Classifier training\n",
        "accuracy_gb, mse_gb, cm_gb = train_model(GradientBoostingClassifier(), xtrain_tfidf, train_y, xvalid_tfidf)\n",
        "print(\"Gradient Boosting - Accuracy: \", accuracy_gb)\n",
        "print(\"Gradient Boosting - Mean Squared Error: \", mse_gb)\n",
        "print(\"Gradient Boosting - Confusion Matrix:\\n\", cm_gb)"
      ]
    },
    {
      "cell_type": "code",
      "execution_count": null,
      "metadata": {
        "colab": {
          "background_save": true
        },
        "id": "N9TOFeRKgX80",
        "outputId": "169e621b-14c0-4e5f-b3c4-de3f3a2fe555"
      },
      "outputs": [
        {
          "data": {
            "image/png": "[encoded data removed]",
            "text/plain": [
              "<Figure size 800x600 with 2 Axes>"
            ]
          },
          "metadata": {},
          "output_type": "display_data"
        },
        {
          "name": "stdout",
          "output_type": "stream",
          "text": [
            "KNN - Accuracy:  0.5572217837411207\n",
            "KNN - Mean Squared Error:  0.44277821625887925\n",
            "KNN - Confusion Matrix:\n",
            " [[615   0]\n",
            " [561  91]]\n"
          ]
        }
      ],
      "source": [
        "# K-Nearest Neighbors (KNN) Classifier training\n",
        "accuracy_knn, mse_knn, cm_knn = train_model(KNeighborsClassifier(), xtrain_tfidf, train_y, xvalid_tfidf)\n",
        "print(\"KNN - Accuracy: \", accuracy_knn)\n",
        "print(\"KNN - Mean Squared Error: \", mse_knn)\n",
        "print(\"KNN - Confusion Matrix:\\n\", cm_knn)"
      ]
    },
    {
      "cell_type": "markdown",
      "metadata": {
        "id": "Xs6FpCRQHInH"
      },
      "source": [
        "## Save the model"
      ]
    },
    {
      "cell_type": "code",
      "execution_count": null,
      "metadata": {
        "colab": {
          "background_save": true
        },
        "id": "5fs-FItbhtoC"
      },
      "outputs": [],
      "source": [
        "import joblib\n",
        "def save_model(model, filename):\n",
        "    # Save the model to a file using joblib\n",
        "    joblib.dump(model, filename)\n",
        "    print(f\"Model saved as {filename}\")"
      ]
    },
    {
      "cell_type": "code",
      "execution_count": null,
      "metadata": {
        "colab": {
          "base_uri": "https://localhost:8080/"
        },
        "id": "obmI7eftHRWd",
        "outputId": "dd4d2a0a-b42e-40ed-8339-f8705695b766"
      },
      "outputs": [
        {
          "name": "stdout",
          "output_type": "stream",
          "text": [
            "Model saved as naive_bayes_model.joblib\n"
          ]
        }
      ],
      "source": [
        "# Save the Naive Bayes model\n",
        "save_model(naive_bayes.MultinomialNB(alpha=0.2), \"naive_bayes_model.joblib\")"
      ]
    },
    {
      "cell_type": "code",
      "execution_count": null,
      "metadata": {
        "colab": {
          "base_uri": "https://localhost:8080/"
        },
        "id": "9lccP3zTHanp",
        "outputId": "20e776ec-0bb3-4c2e-c55b-c78601f4e8db"
      },
      "outputs": [
        {
          "name": "stdout",
          "output_type": "stream",
          "text": [
            "Model saved as logistic_regression_model.joblib\n"
          ]
        }
      ],
      "source": [
        "# Save the Logistic Regression model\n",
        "save_model(linear_model.LogisticRegression(), \"logistic_regression_model.joblib\")"
      ]
    },
    {
      "cell_type": "code",
      "execution_count": null,
      "metadata": {
        "colab": {
          "base_uri": "https://localhost:8080/"
        },
        "id": "A1zjgZDxHc9Y",
        "outputId": "b1d9f25c-012b-45db-83d3-1055e9526d06"
      },
      "outputs": [
        {
          "name": "stdout",
          "output_type": "stream",
          "text": [
            "Model saved as svm_model.joblib\n"
          ]
        }
      ],
      "source": [
        "# SVM\n",
        "save_model(SVC(kernel='linear'), \"svm_model.joblib\")"
      ]
    },
    {
      "cell_type": "code",
      "execution_count": null,
      "metadata": {
        "colab": {
          "base_uri": "https://localhost:8080/"
        },
        "id": "Vxadla4tHnsB",
        "outputId": "64c35603-fbc4-489e-d258-bfff634d7ab2"
      },
      "outputs": [
        {
          "name": "stdout",
          "output_type": "stream",
          "text": [
            "Model saved as random_forest_model.joblib\n"
          ]
        }
      ],
      "source": [
        "# Random Forest\n",
        "save_model(RandomForestClassifier(n_estimators=100), \"random_forest_model.joblib\")"
      ]
    },
    {
      "cell_type": "code",
      "execution_count": null,
      "metadata": {
        "colab": {
          "base_uri": "https://localhost:8080/"
        },
        "id": "Zb3C0X_aHuh-",
        "outputId": "50449c12-392b-4f36-ebaa-956fdf4d2a50"
      },
      "outputs": [
        {
          "name": "stdout",
          "output_type": "stream",
          "text": [
            "Model saved as decision_tree_model.joblib\n"
          ]
        }
      ],
      "source": [
        "# Decision Tree\n",
        "save_model(DecisionTreeClassifier(), \"decision_tree_model.joblib\")"
      ]
    },
    {
      "cell_type": "code",
      "execution_count": null,
      "metadata": {
        "colab": {
          "base_uri": "https://localhost:8080/"
        },
        "id": "1vAK3AUpHyel",
        "outputId": "185b2f88-e9c2-4237-99ce-cd27c49878cd"
      },
      "outputs": [
        {
          "name": "stdout",
          "output_type": "stream",
          "text": [
            "Model saved as gradient_boosting_model.joblib\n"
          ]
        }
      ],
      "source": [
        "# Gradient Boosting\n",
        "save_model(GradientBoostingClassifier(), \"gradient_boosting_model.joblib\")"
      ]
    },
    {
      "cell_type": "code",
      "execution_count": null,
      "metadata": {
        "colab": {
          "base_uri": "https://localhost:8080/"
        },
        "id": "U4USC_SaH2EG",
        "outputId": "29698031-31b3-41f4-e64b-5dbc0a6d0d23"
      },
      "outputs": [
        {
          "name": "stdout",
          "output_type": "stream",
          "text": [
            "Model saved as knn_model.joblib\n"
          ]
        }
      ],
      "source": [
        "# K-Nearest Neighbors (KNN)\n",
        "save_model(KNeighborsClassifier(), \"knn_model.joblib\")"
      ]
    },
    {
      "cell_type": "code",
      "execution_count": null,
      "metadata": {
        "id": "xzbIp7XqIYCc"
      },
      "outputs": [],
      "source": []
    }
  ],
  "metadata": {
    "colab": {
      "provenance": []
    },
    "kernelspec": {
      "display_name": "Python 3",
      "name": "python3"
    },
    "language_info": {
      "codemirror_mode": {
        "name": "ipython",
        "version": 3
      },
      "file_extension": ".py",
      "mimetype": "text/x-python",
      "name": "python",
      "nbconvert_exporter": "python",
      "pygments_lexer": "ipython3",
      "version": "3.12.3"
    }
  },
  "nbformat": 4,
  "nbformat_minor": 0
}
